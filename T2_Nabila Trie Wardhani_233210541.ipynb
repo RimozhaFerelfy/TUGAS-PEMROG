{
 "cells": [
  {
   "cell_type": "markdown",
   "metadata": {},
   "source": [
    "# TUGAS 2"
   ]
  },
  {
   "cell_type": "code",
   "execution_count": 9,
   "metadata": {},
   "outputs": [
    {
     "name": "stdout",
     "output_type": "stream",
     "text": [
      "Luas lingkaran dengan jari-jari 2.0 adalah 12.56\n"
     ]
    }
   ],
   "source": [
    "operator = input(\"Pilih bangun ruang atau bangun datar (ruang/datar): \")\n",
    "\n",
    "if operator == \"ruang\":\n",
    "    bangun_ruang = input(\"Pilih bangun ruang (kubus/balok): \")\n",
    "\n",
    "    if bangun_ruang == \"kubus\":\n",
    "        sisi = float(input(\"Masukkan panjang sisi kubus: \"))\n",
    "        volume = sisi ** 3\n",
    "        print(f\"Volume kubus dengan sisi {sisi} adalah: {volume}\")\n",
    "    elif bangun_ruang == \"balok\":\n",
    "        panjang = float(input(\"Masukkan panjang balok: \"))\n",
    "        lebar = float(input(\"Masukkan lebar balok: \"))\n",
    "        tinggi = float(input(\"Masukkan tinggi balok: \"))\n",
    "        volume = panjang * lebar * tinggi\n",
    "        print(f\"Volume balok dengan panjang {panjang}, lebar {lebar}, dan tinggi {tinggi} adalah: {volume}\")\n",
    "    else:\n",
    "        print(\"Bangun ruang tidak valid\")\n",
    "\n",
    "elif operator == \"datar\":\n",
    "    bangun_datar = input(\"Pilih bangun datar (persegi/lingkaran): \")\n",
    "\n",
    "    if bangun_datar == \"persegi\":\n",
    "        sisi = float(input(\"Masukkan panjang sisi persegi: \"))\n",
    "        luas = sisi ** 2\n",
    "        print(f\"Luas persegi dengan sisi {sisi} adalah: {luas}\")\n",
    "    elif bangun_datar == \"lingkaran\":\n",
    "        jari_jari = float(input(\"Masukkan jari-jari lingkaran: \"))\n",
    "        luas = 3.14 * jari_jari ** 2\n",
    "        print(f\"Luas lingkaran dengan jari-jari {jari_jari} adalah: {luas}\")\n",
    "    else:\n",
    "        print(\"Bangun datar tidak valid\")\n",
    "\n",
    "else:\n",
    "    print(\"Pilihan tidak valid\")"
   ]
  },
  {
   "cell_type": "markdown",
   "metadata": {},
   "source": [
    "mendeklarasikan variable operator yang digunakan untuk memilih antara bangun ruang atau bangun datar dari user dengan tipe data string. \n",
    "\n",
    "mendeklarasikan variable operator ruang yang digunakan untuk memilih bangun ruang dari kubus atau balok.\n",
    "\n",
    "jika kondisi bangun ruang (kubus) terpenuhi maka akan meminta user untuk memasukkan nilai panjang sisi kubus dengan tipe data float dan program akan menampilkan output dari volume kubus. \n",
    "\n",
    "jika kondisi bangun ruang (balok) terpenuhi maka program akan meminta user untuk memasukkan nilai dari panjang, lebar, dan tinggi dari balok dengan tipe data float dan  program akan menampilkan output dari volume balok. \n",
    "\n",
    "jika tidak ada kondisi yang terpenuhi maka program akan menampilkan 'bangun ruang tidak valid'. \n",
    "\n",
    "Mendeklarasikan variable operator datar yang digunakan untuk memilih bangun datar dari persegi atau lingkaran.\n",
    "\n",
    "jika kondisi bangun datar (persegi) terpenuhi maka akan meminta user untuk memasukkan nilai panjang sisi persegi dengan tipe data float dan program akan menampilkan output dari luas persegi. \n",
    "\n",
    "jika kondisi bangun datar (lingkaran) terpenuhi maka program akan meminta user untuk memasukkan nilai dari jari-jari dengan tipe data float dan  program akan menampilkan output dari luas lingkaran. \n",
    "\n",
    "jika tidak ada kondisi yang terpenuhi maka program akan menampilkan 'bangun datar tidak valid'.\n",
    "\n",
    "jika tidak ada kondisi yang terpenuhi dari bangun ruang atau bangun datar maka program akan menampilkan 'pilihan tidak valid'"
   ]
  }
 ],
 "metadata": {
  "kernelspec": {
   "display_name": "Python 3",
   "language": "python",
   "name": "python3"
  },
  "language_info": {
   "codemirror_mode": {
    "name": "ipython",
    "version": 3
   },
   "file_extension": ".py",
   "mimetype": "text/x-python",
   "name": "python",
   "nbconvert_exporter": "python",
   "pygments_lexer": "ipython3",
   "version": "3.12.2"
  }
 },
 "nbformat": 4,
 "nbformat_minor": 2
}
